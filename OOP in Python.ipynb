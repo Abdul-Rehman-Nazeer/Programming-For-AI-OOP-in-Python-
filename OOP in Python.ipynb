{
 "cells": [
  {
   "cell_type": "code",
   "execution_count": 1,
   "id": "c9b0c0b4-541a-4f90-97f1-86e56a1c94d0",
   "metadata": {},
   "outputs": [
    {
     "name": "stdout",
     "output_type": "stream",
     "text": [
      "Seating capacity is:  5\n",
      "Fare will be:  550.0\n"
     ]
    }
   ],
   "source": [
    "# q1. Create a Bus child class that inherits from the Vehicle class. The default fare charge of any\n",
    "# vehicle is seating capacity * 100. If Vehicle is Bus instance, we need to add an extra 10% on\n",
    "# full fare as a maintenance charge. So total fare for bus instance will become the final amount =\n",
    "# total fare + 10% of the total fare.\n",
    "\n",
    "class Vehicle():\n",
    "    seating_capacity=0\n",
    "    fare=100\n",
    "class Bus(Vehicle):\n",
    "    def Setter(self,seatcap):\n",
    "        self.seating_capacity=seatcap\n",
    "        self.fare=self.fare*seatcap\n",
    "        self.fare=self.fare+(self.fare/10)\n",
    "        print(\"Seating capacity is: \", self.seating_capacity)\n",
    "        print(\"Fare will be: \", self.fare)\n",
    "obj=Bus()\n",
    "obj.Setter(5)"
   ]
  },
  {
   "cell_type": "code",
   "execution_count": 2,
   "id": "88e94987-a3bd-4a7a-9aaf-4847e441a41b",
   "metadata": {},
   "outputs": [
    {
     "name": "stdout",
     "output_type": "stream",
     "text": [
      "area of triangle:  4.0\n",
      "area of rectangle:  8\n",
      "area of square:  9\n"
     ]
    }
   ],
   "source": [
    "# q2. Create abstract base class \"shape\" that has abstract method \"area\". Inherit rectangle, triangle\n",
    "# and square class from shape class and provide implementation of \"area\" method for each\n",
    "# derived class. Finally print area of rectangle, triangle and square.\n",
    "class shape():\n",
    "    def area(self):\n",
    "        pass\n",
    "class triangle(shape):\n",
    "    def area(self,h,b):\n",
    "        print(\"area of triangle: \", (h*b)/2)\n",
    "class rectangle(shape):\n",
    "    def area(self,h,b):\n",
    "        print(\"area of rectangle: \", (h*b))\n",
    "class square(shape):\n",
    "    def area(self,h):\n",
    "        print(\"area of square: \", (h*h))\n",
    "obj1=triangle()\n",
    "obj2=rectangle()\n",
    "obj3=square()\n",
    "obj1.area(2,4)\n",
    "obj2.area(2,4)\n",
    "obj3.area(3)"
   ]
  },
  {
   "cell_type": "code",
   "execution_count": 1,
   "id": "c7067f2d-3d48-4216-83bd-5e674bc69817",
   "metadata": {},
   "outputs": [
    {
     "name": "stdout",
     "output_type": "stream",
     "text": [
      "Account number is: 1\n",
      "Account balance is: 23\n",
      "Account security code is: 44\n",
      "1\n",
      "23\n",
      "44\n"
     ]
    }
   ],
   "source": [
    "# q3. Write a program in which a class named Account has private member variables named\n",
    "# account_no ,account_bal ,security_code. Use a public function to initialize the variables and\n",
    "# print all data.\n",
    "\n",
    "class Account:\n",
    "    def __init__(self,an=0,ab=0,sc=0):\n",
    "        self.__account_no=an\n",
    "        self.__account_bal=ab\n",
    "        self.__security_code=sc\n",
    "    def display(self):\n",
    "        print(self.__account_no)\n",
    "        print(self.__account_bal)\n",
    "        print(self.__security_code)\n",
    "    def gett(self):\n",
    "        print(\"Account number is:\",self.__account_no)\n",
    "        print(\"Account balance is:\",self.__account_bal)\n",
    "        print(\"Account security code is:\",self.__security_code)\n",
    "    def sett(self,an,ab,sc):\n",
    "        self.__account_no=an\n",
    "        self.__account_bal=ab\n",
    "        self.__security_code=sc\n",
    "\n",
    "a=Account()\n",
    "a.sett(1,23,44)\n",
    "a.gett()\n"
   ]
  },
  {
   "cell_type": "code",
   "execution_count": 17,
   "id": "316d7289-dbc2-43fa-ba53-48de93f293d2",
   "metadata": {},
   "outputs": [
    {
     "name": "stdout",
     "output_type": "stream",
     "text": [
      "Enter Student ID:  10\n",
      "Enter Student Name:  hassan\n",
      "Enter Marks in Algorithm:  50\n",
      "Enter Marks in Data Science:  50\n",
      "Enter Marks in Calculus:  50\n"
     ]
    },
    {
     "name": "stdout",
     "output_type": "stream",
     "text": [
      "Student Details:\n",
      "  Student ID: 10\n",
      "  Student Name: hassan\n",
      "Marks Obtained:\n",
      "  Algorithm: 50\n",
      "  Data Science: 50\n",
      "  Calculus: 50\n",
      "Total Marks: 150\n",
      "Average Marks: 50.0\n"
     ]
    }
   ],
   "source": [
    "# q4. A university is deciding to upgrade its system. In order to upgrade, you need to implement the\n",
    "# following scenario: Note the following:\n",
    "#  The class student has a function that displays information about the student i.e. id and\n",
    "# name.\n",
    "#  Class marks is derived from class student and has a function that displays all the marks\n",
    "# obtained in the courses by the students. i.e. marks_algo, marks_dataScience,\n",
    "# marks_calculus.\n",
    "#  Class result is derived from class marks. This class has a function that calculates the\n",
    "# total marks and then calculates the average marks. It then displays both the total and the\n",
    "# average marks.\n",
    "# In the main function you are required to do the following:\n",
    "#  Create an object of the result class.\n",
    "#  Then display the student details, the marks obtained in each courses and the total and\n",
    "# the average marks.\n",
    "class Student:\n",
    "    def display(self, id=0, name=\"\"):\n",
    "        self.id = id\n",
    "        self.name = name\n",
    "        print(\"Student Details:\")\n",
    "        print(f\"  Student ID: {self.id}\")\n",
    "        print(f\"  Student Name: {self.name}\")\n",
    "class Marks(Student):\n",
    "    def disp_marks(self, ma=0, mds=0, mc=0):\n",
    "        self.marks_algo = ma\n",
    "        self.marks_dataScience = mds\n",
    "        self.marks_calculus = mc\n",
    "        print(\"Marks Obtained:\")\n",
    "        print(f\"  Algorithm: {self.marks_algo}\")\n",
    "        print(f\"  Data Science: {self.marks_dataScience}\")\n",
    "        print(f\"  Calculus: {self.marks_calculus}\")\n",
    "class Result(Marks):\n",
    "    def calculate_marks(self):\n",
    "        total_marks = self.marks_algo + self.marks_dataScience + self.marks_calculus\n",
    "        average_marks = total_marks / 3\n",
    "        return total_marks, average_marks\n",
    "r1 = Result()\n",
    "student_id = input(\"Enter Student ID: \")\n",
    "student_name = input(\"Enter Student Name: \")\n",
    "marks_algo = int(input(\"Enter Marks in Algorithm: \"))\n",
    "marks_dataScience = int(input(\"Enter Marks in Data Science: \"))\n",
    "marks_calculus = int(input(\"Enter Marks in Calculus: \"))\n",
    "r1.display(student_id, student_name)\n",
    "r1.disp_marks(\n",
    "    ma=marks_algo,\n",
    "    mds=marks_dataScience,\n",
    "    mc=marks_calculus\n",
    ")\n",
    "total, average = r1.calculate_marks()\n",
    "print(f\"Total Marks: {total:}\")\n",
    "print(f\"Average Marks: {average:}\")"
   ]
  },
  {
   "cell_type": "code",
   "execution_count": 26,
   "id": "36833c6b-1bf7-4e85-9135-f2bd0dbb9b91",
   "metadata": {},
   "outputs": [
    {
     "name": "stdout",
     "output_type": "stream",
     "text": [
      "Rented: Toyota Corolla\n",
      "Rented: Honda Civic\n",
      "Make: Toyota, Model: Corolla, Rental Price: 50\n",
      "Make: Honda, Model: Civic, Rental Price: 70\n",
      "Vehicle: None, Start Date: 2021-05-01, End Date: 2021-06-01, Renter: Ali Khan\n",
      "Vehicle: None, Start Date: 2023-11-01, End Date: 2023-11-10, Renter: Ali Khan\n",
      "Returned: Toyota Corolla\n",
      "Returned: Honda Civic\n"
     ]
    }
   ],
   "source": [
    "# q5. You are tasked with developing a software system to manage vehicle rentals for a car rental\n",
    "# company. The company offers different types of vehicles for rent, including cars, SUVs, and\n",
    "# trucks. Each vehicle has attributes like the make, model, rental price, and availability status.\n",
    "#  Design a class hierarchy to represent different types of vehicles (e.g., Car, SUV,\n",
    "# Truck).\n",
    "#  Implement methods within each vehicle class to check availability, calculate the total\n",
    "# rental cost for a given period, and display vehicle details. Ensure that the availability\n",
    "# status changes when a vehicle is rented or returned.\n",
    "#  Create a class for managing rental reservations (e.g., RentalReservation) that connects a\n",
    "# customer to a rented vehicle. This class should include details like the rental start date,\n",
    "# end date, and the customer renting the vehicle.\n",
    "#  Design a customer class (e.g., Customer) to store information about renters, including\n",
    "# name, contact information, and rented vehicles. Implement a method to display a\n",
    "# customer's rental history.\n",
    "#  Demonstrate polymorphism by creating a function or method that can display the\n",
    "# details of any vehicle (Car, SUV, Truck) or rental reservation (RentalReservation).\n",
    "\n",
    "#  Incorporate encapsulation principles to protect sensitive information like rental prices\n",
    "# and customer contact details.\n",
    "class Vehicle:\n",
    "    def __init__(self, make, model, rentalPrice):\n",
    "        self.make = make\n",
    "        self.model = model\n",
    "        self.rentalPrice = rentalPrice\n",
    "        self.customer = None\n",
    "    \n",
    "    def rent(self, customer, startDate, endDate):\n",
    "        if self.customer is None:\n",
    "            self.customer = customer\n",
    "            self.customer.addRental(self, startDate, endDate)\n",
    "            print(f\"Rented: {self.make} {self.model}\")\n",
    "        else:\n",
    "            print(f\"Not available for rent: {self.make} {self.model}\")\n",
    "    \n",
    "    def returnVehicle(self):\n",
    "        if self.customer is not None:\n",
    "            self.customer.removeRental(self)\n",
    "            self.customer = None\n",
    "            print(f\"Returned: {self.make} {self.model}\")\n",
    "        else:\n",
    "            print(f\"Not rented: {self.make} {self.model}\")\n",
    "    \n",
    "    def displayDetails(self):\n",
    "        print(f\"Make: {self.make}, Model: {self.model}, Rental Price: {self.rentalPrice})\"\n",
    "\n",
    "class Customer:\n",
    "    def __init__(self, name, contactInfo):\n",
    "        self.name = name\n",
    "        self.contactInfo = contactInfo\n",
    "        self.rentedVehicles = []\n",
    "    \n",
    "    def addRental(self, vehicle, startDate, endDate):\n",
    "        self.rentedVehicles.append((vehicle, startDate, endDate))\n",
    "    \n",
    "    def removeRental(self, vehicle):\n",
    "        self.rentedVehicles = [rental for rental in self.rentedVehicles if rental[0] != vehicle]\n",
    "    \n",
    "    def displayRentalHistory(self):\n",
    "        history = []\n",
    "        for rental in self.rentedVehicles:\n",
    "            vehicle, startDate, endDate = rental\n",
    "            history.append(f\"Vehicle: {vehicle.displayDetails()}, Start Date: {startDate}, End Date: {endDate}, Renter: {self.name}\")\n",
    "        return history\n",
    "\n",
    "car1 = Vehicle(\"Toyota\", \"Corolla\", 50)\n",
    "suv1 = Vehicle(\"Honda\", \"Civic\", 70)\n",
    "truck1 = Vehicle(\"Suzuki\", \"Bolan\", 100)\n",
    "customer1 = Customer(\"Ali Khan\", \"ali.khan@gmail.com\")\n",
    "\n",
    "car1.rent(customer1, \"2021-05-01\", \"2021-06-01\")\n",
    "suv1.rent(customer1, \"2023-11-01\", \"2023-11-10\")\n",
    "\n",
    "rentalHistory = customer1.displayRentalHistory()\n",
    "for entry in rentalHistory:\n",
    "    print(entry)\n",
    "\n",
    "car1.returnVehicle()\n",
    "suv1.returnVehicle()"
   ]
  },
  {
   "cell_type": "code",
   "execution_count": 25,
   "id": "06dcac55-bd96-4c6a-89ea-2a7069d0c8d2",
   "metadata": {},
   "outputs": [
    {
     "name": "stdout",
     "output_type": "stream",
     "text": [
      "Ali's Salary: $60000\n",
      "Saim's Salary: $50000\n",
      "Akhtar's Salary: $80000\n",
      "Ali is hiring Abdullah\n",
      "Saim is writing code\n",
      "Ali's Salary with Bonus: $12000.0\n",
      "Saim's Salary with Bonus: $5000.0\n",
      "Akhtar's Salary with Bonus: $24000.0\n"
     ]
    }
   ],
   "source": [
    "# q6. Create a class called \"Employee\" with properties \"name\" and \"salary\". Add a method called\n",
    "# \"calculateBonus\" that calculates a bonus amount based on the employee's salary. Managers get\n",
    "# a bonus equal to 20% of their salary, while developers get a bonus equal to 10% of their salary.\n",
    "# Then, create two subclasses called \"Manager\" and \"Developer\" that inherit from the Employee\n",
    "# class. The Manager class should have a method called \"hire\" that logs a message indicating that\n",
    "# the manager is hiring someone, while the Developer class should have a method called\n",
    "# \"writeCode\" that logs a message indicating that the developer is writing code. Finally, create a\n",
    "# subclass called \"SeniorManager\" that inherits from the Manager class and that should have the\n",
    "# \"calculateBonus\" method to give senior managers a bonus equal to 30% of their salary.\n",
    "\n",
    "class Employee:\n",
    "    def __init__(self, name, salary):\n",
    "        self.name = name\n",
    "        self.salary = salary\n",
    "\n",
    "    def calculateBonus(self):\n",
    "        return 0\n",
    "\n",
    "class Manager(Employee):\n",
    "    def hire(self, employee_name):\n",
    "        print(f\"{self.name} is hiring {employee_name}\")\n",
    "\n",
    "    def calculateBonus(self):\n",
    "        return 0.20 * self.salary\n",
    "\n",
    "class Developer(Employee):\n",
    "    def writeCode(self):\n",
    "        print(f\"{self.name} is writing code\")\n",
    "\n",
    "    def calculateBonus(self):\n",
    "        return 0.10 * self.salary\n",
    "\n",
    "class SeniorManager(Manager):\n",
    "    def calculateBonus(self):\n",
    "        return 0.30 * self.salary\n",
    "\n",
    "manager1 = Manager(\"Ali\", 60000)\n",
    "developer1 = Developer(\"Saim\", 50000)\n",
    "seniorManager1 = SeniorManager(\"Akhtar\", 80000)\n",
    "\n",
    "print(f\"{manager1.name}'s Salary: ${manager1.salary}\")\n",
    "print(f\"{developer1.name}'s Salary: ${developer1.salary}\")\n",
    "print(f\"{seniorManager1.name}'s Salary: ${seniorManager1.salary}\")\n",
    "\n",
    "manager1.hire(\"Abdullah\")\n",
    "developer1.writeCode()\n",
    "\n",
    "print(f\"{manager1.name}'s Salary with Bonus: ${manager1.calculateBonus()}\")\n",
    "print(f\"{developer1.name}'s Salary with Bonus: ${developer1.calculateBonus()}\")\n",
    "print(f\"{seniorManager1.name}'s Salary with Bonus: ${seniorManager1.calculateBonus()}\")\n"
   ]
  },
  {
   "cell_type": "code",
   "execution_count": 8,
   "id": "0f7ea9ba-ffc4-490c-b6f6-ec71b712f36b",
   "metadata": {},
   "outputs": [
    {
     "name": "stdout",
     "output_type": "stream",
     "text": [
      "35\n"
     ]
    }
   ],
   "source": [
    "x=lambda a,b:a*b\n",
    "print(x(5,7))"
   ]
  },
  {
   "cell_type": "code",
   "execution_count": null,
   "id": "2e660000",
   "metadata": {},
   "outputs": [],
   "source": []
  }
 ],
 "metadata": {
  "kernelspec": {
   "display_name": "Python 3 (ipykernel)",
   "language": "python",
   "name": "python3"
  },
  "language_info": {
   "codemirror_mode": {
    "name": "ipython",
    "version": 3
   },
   "file_extension": ".py",
   "mimetype": "text/x-python",
   "name": "python",
   "nbconvert_exporter": "python",
   "pygments_lexer": "ipython3",
   "version": "3.11.5"
  }
 },
 "nbformat": 4,
 "nbformat_minor": 5
}
